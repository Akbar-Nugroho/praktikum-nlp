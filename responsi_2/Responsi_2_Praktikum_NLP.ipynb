{
  "nbformat": 4,
  "nbformat_minor": 0,
  "metadata": {
    "colab": {
      "provenance": []
    },
    "kernelspec": {
      "name": "python3",
      "display_name": "Python 3"
    },
    "language_info": {
      "name": "python"
    }
  },
  "cells": [
    {
      "cell_type": "markdown",
      "source": [
        "**Akbar Nugroho**"
      ],
      "metadata": {
        "id": "eDo5ChaX87vN"
      }
    },
    {
      "cell_type": "markdown",
      "source": [
        "**2211110015**"
      ],
      "metadata": {
        "id": "JlLlhVWa9Bj3"
      }
    },
    {
      "cell_type": "markdown",
      "source": [
        "**SD03A**"
      ],
      "metadata": {
        "id": "r4_ji6ZL9ELs"
      }
    },
    {
      "cell_type": "markdown",
      "source": [
        "# Import Library"
      ],
      "metadata": {
        "id": "s7qEjAKy2Oz2"
      }
    },
    {
      "cell_type": "code",
      "source": [
        "import pandas as pd\n",
        "import numpy as np\n",
        "from sklearn.feature_extraction.text import TfidfVectorizer\n",
        "from sklearn.metrics.pairwise import cosine_similarity\n",
        "import re"
      ],
      "metadata": {
        "id": "vzYpHaLzY6U_"
      },
      "execution_count": 32,
      "outputs": []
    },
    {
      "cell_type": "markdown",
      "source": [
        "# Text-Preprocessing"
      ],
      "metadata": {
        "id": "Pnkfb4MH2VkE"
      }
    },
    {
      "cell_type": "code",
      "source": [
        "def preprocess(text):\n",
        "    text = text.lower()\n",
        "    text = re.sub(r'\\W+', ' ', text)\n",
        "    text = re.sub(r'\\d+', ' ', text)\n",
        "    text = re.sub(r'\\s+[a-z]\\s+', ' ', text)\n",
        "    text = re.sub(r'^\\s+', '', text)\n",
        "    return text\n",
        "\n",
        "# Membaca dataset dari file CSV\n",
        "df = pd.read_csv('dataset_mentalhealth.csv')\n",
        "\n",
        "# Preprocessing pada kolom 'Questions' dan 'Jawaban'\n",
        "df['Questions'] = df['Questions'].apply(preprocess)\n",
        "df['Jawaban'] = df['Jawaban'].apply(preprocess)"
      ],
      "metadata": {
        "id": "hEBQ9ZIhZneH"
      },
      "execution_count": 33,
      "outputs": []
    },
    {
      "cell_type": "markdown",
      "source": [
        "# Normalisasi & Vektorisasi"
      ],
      "metadata": {
        "id": "vH5wFsv22Zyg"
      }
    },
    {
      "cell_type": "code",
      "source": [
        "# Proses vektorisasi\n",
        "tfidf = TfidfVectorizer()\n",
        "tfidf_matrix = tfidf.fit_transform(df['Questions'])"
      ],
      "metadata": {
        "id": "5EdyVEY-aeMD"
      },
      "execution_count": 34,
      "outputs": []
    },
    {
      "cell_type": "markdown",
      "source": [
        "# Modelling"
      ],
      "metadata": {
        "id": "INSbVcg22gjj"
      }
    },
    {
      "cell_type": "code",
      "source": [
        "def answer_question(user_question):\n",
        "    preprocessed_question = preprocess(user_question)\n",
        "    user_question_vec = tfidf.transform([preprocessed_question])\n",
        "    similarity = cosine_similarity(user_question_vec, tfidf_matrix).flatten()\n",
        "    index = similarity.argsort()[-1]\n",
        "    return df['Jawaban'].iloc[index]"
      ],
      "metadata": {
        "id": "_nblSThybuQA"
      },
      "execution_count": 52,
      "outputs": []
    },
    {
      "cell_type": "markdown",
      "source": [
        "# Evaluasi Model"
      ],
      "metadata": {
        "id": "eO1jYNES2laZ"
      }
    },
    {
      "cell_type": "code",
      "source": [
        "eval_data = [\n",
        "    ['apa yang dimaksud dengan penyakit mental?', 'penyakit mental adalah kondisi kesehatan yang mengganggu pikiran, emosi, hubungan, dan fungsi seseorang. Mereka dikaitkan dengan kesusahan dan berkurangnya kapasitas untuk terlibat dalam kegiatan kehidupan sehari -hari yang biasa.'],\n",
        "    ['bagaimana saya tahu kalau saya tidak sehat?', 'jika keyakinan, pikiran, perasaan, atau perilaku Anda memiliki dampak yang signifikan pada kemampuan Anda untuk berfungsi dalam apa yang mungkin dianggap sebagai cara yang normal atau biasa, penting untuk mencari bantuan.'],\n",
        "    ['saya sudah dewasa dan saya pikir saya mungkin menderita adhd. Apa yang bisa saya lakukan selanjutnya?,', 'sementara kita menganggap gangguan perhatian/hiperaktif sebagai penyakit yang mempengaruhi anak-anak, itu bisa bertahan hingga dewasa-dan beberapa orang tidak didiagnosis sampai di kemudian hari.']\n",
        "]\n",
        "\n",
        "eval_df = pd.DataFrame(eval_data, columns=['Questions', 'Jawaban'])\n",
        "eval_df"
      ],
      "metadata": {
        "colab": {
          "base_uri": "https://localhost:8080/",
          "height": 143
        },
        "id": "yzlH7RqCxoa9",
        "outputId": "c98f0a8c-0106-4ea6-b68b-ca3fc9a72580"
      },
      "execution_count": 53,
      "outputs": [
        {
          "output_type": "execute_result",
          "data": {
            "text/plain": [
              "                                           Questions  \\\n",
              "0          apa yang dimaksud dengan penyakit mental?   \n",
              "1        bagaimana saya tahu kalau saya tidak sehat?   \n",
              "2  saya sudah dewasa dan saya pikir saya mungkin ...   \n",
              "\n",
              "                                             Jawaban  \n",
              "0  penyakit mental adalah kondisi kesehatan yang ...  \n",
              "1  jika keyakinan, pikiran, perasaan, atau perila...  \n",
              "2  sementara kita menganggap gangguan perhatian/h...  "
            ],
            "text/html": [
              "\n",
              "  <div id=\"df-6bd65fc1-2d99-4219-ab69-0d895469fc02\" class=\"colab-df-container\">\n",
              "    <div>\n",
              "<style scoped>\n",
              "    .dataframe tbody tr th:only-of-type {\n",
              "        vertical-align: middle;\n",
              "    }\n",
              "\n",
              "    .dataframe tbody tr th {\n",
              "        vertical-align: top;\n",
              "    }\n",
              "\n",
              "    .dataframe thead th {\n",
              "        text-align: right;\n",
              "    }\n",
              "</style>\n",
              "<table border=\"1\" class=\"dataframe\">\n",
              "  <thead>\n",
              "    <tr style=\"text-align: right;\">\n",
              "      <th></th>\n",
              "      <th>Questions</th>\n",
              "      <th>Jawaban</th>\n",
              "    </tr>\n",
              "  </thead>\n",
              "  <tbody>\n",
              "    <tr>\n",
              "      <th>0</th>\n",
              "      <td>apa yang dimaksud dengan penyakit mental?</td>\n",
              "      <td>penyakit mental adalah kondisi kesehatan yang ...</td>\n",
              "    </tr>\n",
              "    <tr>\n",
              "      <th>1</th>\n",
              "      <td>bagaimana saya tahu kalau saya tidak sehat?</td>\n",
              "      <td>jika keyakinan, pikiran, perasaan, atau perila...</td>\n",
              "    </tr>\n",
              "    <tr>\n",
              "      <th>2</th>\n",
              "      <td>saya sudah dewasa dan saya pikir saya mungkin ...</td>\n",
              "      <td>sementara kita menganggap gangguan perhatian/h...</td>\n",
              "    </tr>\n",
              "  </tbody>\n",
              "</table>\n",
              "</div>\n",
              "    <div class=\"colab-df-buttons\">\n",
              "\n",
              "  <div class=\"colab-df-container\">\n",
              "    <button class=\"colab-df-convert\" onclick=\"convertToInteractive('df-6bd65fc1-2d99-4219-ab69-0d895469fc02')\"\n",
              "            title=\"Convert this dataframe to an interactive table.\"\n",
              "            style=\"display:none;\">\n",
              "\n",
              "  <svg xmlns=\"http://www.w3.org/2000/svg\" height=\"24px\" viewBox=\"0 -960 960 960\">\n",
              "    <path d=\"M120-120v-720h720v720H120Zm60-500h600v-160H180v160Zm220 220h160v-160H400v160Zm0 220h160v-160H400v160ZM180-400h160v-160H180v160Zm440 0h160v-160H620v160ZM180-180h160v-160H180v160Zm440 0h160v-160H620v160Z\"/>\n",
              "  </svg>\n",
              "    </button>\n",
              "\n",
              "  <style>\n",
              "    .colab-df-container {\n",
              "      display:flex;\n",
              "      gap: 12px;\n",
              "    }\n",
              "\n",
              "    .colab-df-convert {\n",
              "      background-color: #E8F0FE;\n",
              "      border: none;\n",
              "      border-radius: 50%;\n",
              "      cursor: pointer;\n",
              "      display: none;\n",
              "      fill: #1967D2;\n",
              "      height: 32px;\n",
              "      padding: 0 0 0 0;\n",
              "      width: 32px;\n",
              "    }\n",
              "\n",
              "    .colab-df-convert:hover {\n",
              "      background-color: #E2EBFA;\n",
              "      box-shadow: 0px 1px 2px rgba(60, 64, 67, 0.3), 0px 1px 3px 1px rgba(60, 64, 67, 0.15);\n",
              "      fill: #174EA6;\n",
              "    }\n",
              "\n",
              "    .colab-df-buttons div {\n",
              "      margin-bottom: 4px;\n",
              "    }\n",
              "\n",
              "    [theme=dark] .colab-df-convert {\n",
              "      background-color: #3B4455;\n",
              "      fill: #D2E3FC;\n",
              "    }\n",
              "\n",
              "    [theme=dark] .colab-df-convert:hover {\n",
              "      background-color: #434B5C;\n",
              "      box-shadow: 0px 1px 3px 1px rgba(0, 0, 0, 0.15);\n",
              "      filter: drop-shadow(0px 1px 2px rgba(0, 0, 0, 0.3));\n",
              "      fill: #FFFFFF;\n",
              "    }\n",
              "  </style>\n",
              "\n",
              "    <script>\n",
              "      const buttonEl =\n",
              "        document.querySelector('#df-6bd65fc1-2d99-4219-ab69-0d895469fc02 button.colab-df-convert');\n",
              "      buttonEl.style.display =\n",
              "        google.colab.kernel.accessAllowed ? 'block' : 'none';\n",
              "\n",
              "      async function convertToInteractive(key) {\n",
              "        const element = document.querySelector('#df-6bd65fc1-2d99-4219-ab69-0d895469fc02');\n",
              "        const dataTable =\n",
              "          await google.colab.kernel.invokeFunction('convertToInteractive',\n",
              "                                                    [key], {});\n",
              "        if (!dataTable) return;\n",
              "\n",
              "        const docLinkHtml = 'Like what you see? Visit the ' +\n",
              "          '<a target=\"_blank\" href=https://colab.research.google.com/notebooks/data_table.ipynb>data table notebook</a>'\n",
              "          + ' to learn more about interactive tables.';\n",
              "        element.innerHTML = '';\n",
              "        dataTable['output_type'] = 'display_data';\n",
              "        await google.colab.output.renderOutput(dataTable, element);\n",
              "        const docLink = document.createElement('div');\n",
              "        docLink.innerHTML = docLinkHtml;\n",
              "        element.appendChild(docLink);\n",
              "      }\n",
              "    </script>\n",
              "  </div>\n",
              "\n",
              "\n",
              "<div id=\"df-4e26d411-e780-4085-9b1a-8e30ca9b06dd\">\n",
              "  <button class=\"colab-df-quickchart\" onclick=\"quickchart('df-4e26d411-e780-4085-9b1a-8e30ca9b06dd')\"\n",
              "            title=\"Suggest charts\"\n",
              "            style=\"display:none;\">\n",
              "\n",
              "<svg xmlns=\"http://www.w3.org/2000/svg\" height=\"24px\"viewBox=\"0 0 24 24\"\n",
              "     width=\"24px\">\n",
              "    <g>\n",
              "        <path d=\"M19 3H5c-1.1 0-2 .9-2 2v14c0 1.1.9 2 2 2h14c1.1 0 2-.9 2-2V5c0-1.1-.9-2-2-2zM9 17H7v-7h2v7zm4 0h-2V7h2v10zm4 0h-2v-4h2v4z\"/>\n",
              "    </g>\n",
              "</svg>\n",
              "  </button>\n",
              "\n",
              "<style>\n",
              "  .colab-df-quickchart {\n",
              "      --bg-color: #E8F0FE;\n",
              "      --fill-color: #1967D2;\n",
              "      --hover-bg-color: #E2EBFA;\n",
              "      --hover-fill-color: #174EA6;\n",
              "      --disabled-fill-color: #AAA;\n",
              "      --disabled-bg-color: #DDD;\n",
              "  }\n",
              "\n",
              "  [theme=dark] .colab-df-quickchart {\n",
              "      --bg-color: #3B4455;\n",
              "      --fill-color: #D2E3FC;\n",
              "      --hover-bg-color: #434B5C;\n",
              "      --hover-fill-color: #FFFFFF;\n",
              "      --disabled-bg-color: #3B4455;\n",
              "      --disabled-fill-color: #666;\n",
              "  }\n",
              "\n",
              "  .colab-df-quickchart {\n",
              "    background-color: var(--bg-color);\n",
              "    border: none;\n",
              "    border-radius: 50%;\n",
              "    cursor: pointer;\n",
              "    display: none;\n",
              "    fill: var(--fill-color);\n",
              "    height: 32px;\n",
              "    padding: 0;\n",
              "    width: 32px;\n",
              "  }\n",
              "\n",
              "  .colab-df-quickchart:hover {\n",
              "    background-color: var(--hover-bg-color);\n",
              "    box-shadow: 0 1px 2px rgba(60, 64, 67, 0.3), 0 1px 3px 1px rgba(60, 64, 67, 0.15);\n",
              "    fill: var(--button-hover-fill-color);\n",
              "  }\n",
              "\n",
              "  .colab-df-quickchart-complete:disabled,\n",
              "  .colab-df-quickchart-complete:disabled:hover {\n",
              "    background-color: var(--disabled-bg-color);\n",
              "    fill: var(--disabled-fill-color);\n",
              "    box-shadow: none;\n",
              "  }\n",
              "\n",
              "  .colab-df-spinner {\n",
              "    border: 2px solid var(--fill-color);\n",
              "    border-color: transparent;\n",
              "    border-bottom-color: var(--fill-color);\n",
              "    animation:\n",
              "      spin 1s steps(1) infinite;\n",
              "  }\n",
              "\n",
              "  @keyframes spin {\n",
              "    0% {\n",
              "      border-color: transparent;\n",
              "      border-bottom-color: var(--fill-color);\n",
              "      border-left-color: var(--fill-color);\n",
              "    }\n",
              "    20% {\n",
              "      border-color: transparent;\n",
              "      border-left-color: var(--fill-color);\n",
              "      border-top-color: var(--fill-color);\n",
              "    }\n",
              "    30% {\n",
              "      border-color: transparent;\n",
              "      border-left-color: var(--fill-color);\n",
              "      border-top-color: var(--fill-color);\n",
              "      border-right-color: var(--fill-color);\n",
              "    }\n",
              "    40% {\n",
              "      border-color: transparent;\n",
              "      border-right-color: var(--fill-color);\n",
              "      border-top-color: var(--fill-color);\n",
              "    }\n",
              "    60% {\n",
              "      border-color: transparent;\n",
              "      border-right-color: var(--fill-color);\n",
              "    }\n",
              "    80% {\n",
              "      border-color: transparent;\n",
              "      border-right-color: var(--fill-color);\n",
              "      border-bottom-color: var(--fill-color);\n",
              "    }\n",
              "    90% {\n",
              "      border-color: transparent;\n",
              "      border-bottom-color: var(--fill-color);\n",
              "    }\n",
              "  }\n",
              "</style>\n",
              "\n",
              "  <script>\n",
              "    async function quickchart(key) {\n",
              "      const quickchartButtonEl =\n",
              "        document.querySelector('#' + key + ' button');\n",
              "      quickchartButtonEl.disabled = true;  // To prevent multiple clicks.\n",
              "      quickchartButtonEl.classList.add('colab-df-spinner');\n",
              "      try {\n",
              "        const charts = await google.colab.kernel.invokeFunction(\n",
              "            'suggestCharts', [key], {});\n",
              "      } catch (error) {\n",
              "        console.error('Error during call to suggestCharts:', error);\n",
              "      }\n",
              "      quickchartButtonEl.classList.remove('colab-df-spinner');\n",
              "      quickchartButtonEl.classList.add('colab-df-quickchart-complete');\n",
              "    }\n",
              "    (() => {\n",
              "      let quickchartButtonEl =\n",
              "        document.querySelector('#df-4e26d411-e780-4085-9b1a-8e30ca9b06dd button');\n",
              "      quickchartButtonEl.style.display =\n",
              "        google.colab.kernel.accessAllowed ? 'block' : 'none';\n",
              "    })();\n",
              "  </script>\n",
              "</div>\n",
              "    </div>\n",
              "  </div>\n"
            ]
          },
          "metadata": {},
          "execution_count": 53
        }
      ]
    },
    {
      "cell_type": "code",
      "source": [
        "predicted_answers = []\n",
        "for question in eval_df['Questions']:\n",
        "    ans = answer_question(question)\n",
        "    predicted_answers.append(ans)\n",
        "\n",
        "eval_df['PredictedAnswers'] = predicted_answers"
      ],
      "metadata": {
        "id": "PgRcPmSkxtJv"
      },
      "execution_count": 54,
      "outputs": []
    },
    {
      "cell_type": "code",
      "source": [
        "from sklearn.metrics import accuracy_score\n",
        "\n",
        "accuracy = accuracy_score(eval_df['Jawaban'], eval_df['PredictedAnswers'])\n",
        "print('Akurasi model:', accuracy)"
      ],
      "metadata": {
        "colab": {
          "base_uri": "https://localhost:8080/",
          "height": 0
        },
        "id": "QzA8jP8IyEvQ",
        "outputId": "9b462326-c84f-4a99-adcc-51ac96a02711"
      },
      "execution_count": 55,
      "outputs": [
        {
          "output_type": "stream",
          "name": "stdout",
          "text": [
            "Akurasi model: 0.0\n"
          ]
        }
      ]
    },
    {
      "cell_type": "code",
      "source": [
        "test_questions = ['apa yang disebut penyakit mental?']\n",
        "\n",
        "for question in test_questions:\n",
        "    print('Pertanyaan:', question)\n",
        "    print('Jawaban Model:', answer_question(question))\n",
        "    print()"
      ],
      "metadata": {
        "colab": {
          "base_uri": "https://localhost:8080/",
          "height": 0
        },
        "id": "XocMZE0qyLC5",
        "outputId": "4323dd09-d14c-4a5e-834d-d9520e4f112e"
      },
      "execution_count": 67,
      "outputs": [
        {
          "output_type": "stream",
          "name": "stdout",
          "text": [
            "Pertanyaan: apa yang disebut penyakit mental?\n",
            "Jawaban Model: penyakit mental adalah kondisi kesehatan yang mengganggu pikiran emosi hubungan dan fungsi seseorang mereka dikaitkan dengan kesusahan dan berkurangnya kapasitas untuk terlibat dalam kegiatan kehidupan sehari hari yang biasa penyakit mental jatuh di sepanjang rangkaian keparahan beberapa cukup ringan dan hanya mengganggu beberapa aspek kehidupan seperti fobia tertentu di ujung lain spektrum terletak penyakit mental yang serius yang mengakibatkan gangguan fungsional utama dan gangguan dengan kehidupan sehari hari ini termasuk gangguan seperti depresi berat skizofrenia dan gangguan bipolar dan mungkin mengharuskan orang tersebut menerima perawatan di rumah sakit penting untuk mengetahui bahwa penyakit mental adalah kondisi medis yang tidak ada hubungannya dengan karakter kecerdasan atau kemauan seseorang sama seperti diabetes adalah kelainan pankreas penyakit mental adalah kondisi medis karena biologi otak demikian pula dengan bagaimana seseorang akan mengobati diabetes dengan obat obatan dan insulin penyakit mental dapat diobati dengan kombinasi obat dan dukungan sosial perawatan ini sangat efektif dengan     persen orang yang menerima pengobatan mengalami pengurangan gejala dan peningkatan kualitas hidup dengan perawatan yang tepat sangat mungkin bagi orang dengan penyakit mental untuk mandiri dan sukses \n",
            "\n"
          ]
        }
      ]
    },
    {
      "cell_type": "markdown",
      "source": [
        "# Uji Coba 10 Pertanyaan"
      ],
      "metadata": {
        "id": "kQwDNwSi2szc"
      }
    },
    {
      "cell_type": "code",
      "source": [
        "new_test_questions = [\n",
        "    \"Apa yang dimaksud dengan gangguan kecemasan?\",\n",
        "    \"Bagaimana cara mengenali tanda-tanda depresi?\",\n",
        "    \"Apa manfaat olahraga untuk kesehatan mental?\",\n",
        "    \"Bagaimana cara mengatasi stres sehari-hari?\",\n",
        "    \"Apakah terapi psikologis efektif untuk masalah mental?\",\n",
        "    \"Apa yang dapat dilakukan untuk meningkatkan kesehatan mental di tempat kerja?\",\n",
        "    \"Bagaimana cara mendukung teman yang sedang mengalami krisis mental?\",\n",
        "    \"Apa peran nutrisi dalam mendukung kesehatan mental?\",\n",
        "    \"Apakah tidur yang cukup berpengaruh pada kesehatan mental?\",\n",
        "    \"Bagaimana cara menjaga keseimbangan kesehatan mental?\"\n",
        "]\n",
        "\n",
        "new_predicted_answers = []\n",
        "\n",
        "for question in new_test_questions:\n",
        "  ans = answer_question(question)\n",
        "  new_predicted_answers.append(ans)\n",
        "\n",
        "# tampilkan pertanyaan dan jawaban yang diprediksi\n",
        "for i in range(len(new_test_questions)):\n",
        "  print('Pertanyaan : ', new_test_questions[i])\n",
        "  print('Jawaban Model :', new_predicted_answers[i])\n",
        "  print()\n"
      ],
      "metadata": {
        "colab": {
          "base_uri": "https://localhost:8080/",
          "height": 0
        },
        "id": "e1DUejKuclT5",
        "outputId": "2ebaeb86-b58f-4bb8-e35e-bf2f5dc20c93"
      },
      "execution_count": 85,
      "outputs": [
        {
          "output_type": "stream",
          "name": "stdout",
          "text": [
            "Pertanyaan :  Apa yang dimaksud dengan gangguan kecemasan?\n",
            "Jawaban Model : penyakit mental adalah kondisi kesehatan yang mengganggu pikiran emosi hubungan dan fungsi seseorang mereka dikaitkan dengan kesusahan dan berkurangnya kapasitas untuk terlibat dalam kegiatan kehidupan sehari hari yang biasa penyakit mental jatuh di sepanjang rangkaian keparahan beberapa cukup ringan dan hanya mengganggu beberapa aspek kehidupan seperti fobia tertentu di ujung lain spektrum terletak penyakit mental yang serius yang mengakibatkan gangguan fungsional utama dan gangguan dengan kehidupan sehari hari ini termasuk gangguan seperti depresi berat skizofrenia dan gangguan bipolar dan mungkin mengharuskan orang tersebut menerima perawatan di rumah sakit penting untuk mengetahui bahwa penyakit mental adalah kondisi medis yang tidak ada hubungannya dengan karakter kecerdasan atau kemauan seseorang sama seperti diabetes adalah kelainan pankreas penyakit mental adalah kondisi medis karena biologi otak demikian pula dengan bagaimana seseorang akan mengobati diabetes dengan obat obatan dan insulin penyakit mental dapat diobati dengan kombinasi obat dan dukungan sosial perawatan ini sangat efektif dengan     persen orang yang menerima pengobatan mengalami pengurangan gejala dan peningkatan kualitas hidup dengan perawatan yang tepat sangat mungkin bagi orang dengan penyakit mental untuk mandiri dan sukses \n",
            "\n",
            "Pertanyaan :  Bagaimana cara mengenali tanda-tanda depresi?\n",
            "Jawaban Model : gejala gangguan kesehatan mental bervariasi tergantung pada jenis dan tingkat keparahan kondisi tersebut berikut ini adalah daftar gejala umum yang mungkin menunjukkan gangguan kesehatan mental terutama ketika gejala berganda diekspresikan sekaligus pada orang dewasa bingung berpikir kesedihan atau mudah marah yang tahan lama tinggi dan rendah dalam suasana hati ketakutan yang berlebihan mengkhawatirkan atau kecemasan penarikan sosial perubahan dramatis dalam kebiasaan makan atau tidur perasaan marah yang kuat delusi atau halusinasi melihat atau mendengar hal hal yang tidak benar benar ada meningkatkan ketidakmampuan untuk mengatasi masalah dan kegiatan sehari hari pikiran bunuh diri penolakan masalah yang jelas banyak masalah fisik yang tidak dapat dijelaskan penyalahgunaan narkoba dan atau alkohol pada anak yang lebih besar dan pra remaja penyalahgunaan narkoba dan atau alkohol ketidakmampuan untuk mengatasi masalah dan aktivitas sehari hari perubahan kebiasaan tidur dan atau makan keluhan masalah fisik yang berlebihan menentang otoritas melewatkan sekolah mencuri atau merusak properti ketakutan yang intens untuk menambah berat badan suasana hati negatif yang tahan lama seringkali bersama dengan nafsu makan yang buruk dan pikiran mati ledakan kemarahan yang sering pada anak kecil perubahan kinerja sekolah nilai yang buruk meskipun ada upaya kuat kekhawatiran atau kecemasan yang berlebihan hiperaktif mimpi buruk yang gigih ketidaktaatan yang terus menerus dan atau perilaku agresif tantrum temperamen yang sering terjadi\n",
            "\n",
            "Pertanyaan :  Apa manfaat olahraga untuk kesehatan mental?\n",
            "Jawaban Model : kita semua memiliki kesehatan mental yang terdiri dari keyakinan pikiran perasaan dan perilaku kita \n",
            "\n",
            "Pertanyaan :  Bagaimana cara mengatasi stres sehari-hari?\n",
            "Jawaban Model : sementara banyak orang memikirkan kesedihan dalam hal kehilangan seseorang atau hewan peliharaan kesedihan dapat muncul setiap kali anda kehilangan sesuatu yang penting ini termasuk kehilangan keamanan seperti kehilangan pekerjaan atau bertanya tanya berapa lama anda dapat membayar sewa kehilangan stabilitas atau rutinitas seperti menemukan diri anda bekerja dari rumah atau menavigasi penutupan pengasuhan anak kehilangan rasa aman anda seperti takut anda atau seseorang yang anda cintai mungkin berakhir dengan covid   kehilangan hubungan sosial anda seperti kehilangan waktu dengan keluarga dan teman sekarang karena setiap orang harus berlatih menjauhkan fisik atau isolasi diri kehilangan harapan untuk masa depan seperti perasaan bahwa hidup tidak akan pernah kembali normal kehilangan tujuan penting seperti menemukan kelas kompetisi olahraga atau pertunjukan anda dibatalkan untuk masa mendatang kehilangan perayaan tonggak penting seperti upacara kelulusan dan pernikahan kesedihan memunculkan perasaan yang rumit anda mungkin merasa sedih marah frustrasi takut atau putus asa anda mungkin mengalami kesulitan makan atau tidur atau merasa sangat tegang anda mungkin merasa kewalahan dan lelah anda mungkin bertanya tanya apakah hidup akan terasa normal lagi semua orang berduka dengan cara mereka sendiri dan waktu mereka sendiri berikut adalah beberapa strategi untuk dicoba saat anda menavigasi perjalanan anda sendiri mengakui dan mengekspresikan perasaan anda dengan cara yang sehat berikan nama anda nama dan temukan cara sehat untuk mengekspresikannya seperti dengan berbicara dengan teman menulis di jurnal atau membuat seni beri diri anda waktu sebanyak yang anda butuhkan kesedihan mengikuti jadwalnya sendiri beri diri anda izin untuk menggunakan waktu ini untuk mengurus kesejahteraan anda lepaskan harapan tugas atau kewajiban lain yang bisa menunggu mencari dukungan kesedihan bisa terasa sangat terisolasi meskipun banyak orang mengalami semacam kerugian saat ini jangkau teman atau keluarga dan bagikan perasaan anda cari cara untuk membantu dan mendukung satu sama lain jaga dirimu mengabaikan kesehatan dan kesejahteraan dapat membuat pengalaman sulit terasa lebih buruk makan sebaik mungkin cobalah untuk tidur cukup habiskan waktu di luar jika aman bagi anda untuk melakukannya dan berolahraga secara teratur pikirkan tentang kegiatan perawatan diri atau strategi yang telah membantu anda mengatasi situasi yang menantang di masa lalu dan meluangkan waktu untuk kegiatan tersebut ketahuilah bahwa perasaan kesedihan akan berlalu kesedihan mungkin terasa kuat pada waktu waktu tertentu tetapi perasaan itu akan menjadi lebih mudah dikelola dari waktu ke waktu dan pada akhirnya akan berlalu terhubung dengan profesional kesehatan mental jika anda mengalami kesulitan jika anda mengalami kesulitan menjalani hari itu mengatasi dengan cara yang tidak sehat atau mengalami kesulitan mengelola pikiran atau perasaan yang sulit itu ide yang baik untuk mencari bantuan dari seorang profesional seperti psikolog atau penasihat banyak yang ditawarkan secara online atau janji telepon untuk mencari bantuan untuk semua orang bc psychological association temukan psikolog terdaftar di www psychologists bc ca find_psychologist bc association of clinical counselors temukan penasihat klinis terdaftar di bc counsellors org bc line dukungan kesehatan mental hubungi     tidak ada kode area untuk belajar tentang layanan di daerah anda atau hanya untuk berbicara dengan seseorang sekarang untuk kaum muda telepon bantuan anak bicaralah dengan seorang penasihat di         atau mengobrol di kidshelpphone ca tersedia     pengecoran hubungi kantor pengecoran setempat anda di foundrybc ca untuk foundy virtual dan informasi tentang sumber daya lokal untuk remaja usia     youth in bc mengobrol dengan responden garis krisis di youthinbc com tersedia setiap hari mulai siang     pagi ketidaknyamanan yang anda rasakan adalah kesedihan di harvard business review di hbr org     that discomfort youre feeling is grief berduka dari asosiasi kesehatan mental kanada di cmha ca documents grieving mengatasi kesedihan dan kehilangan dari pikiran anda di mindyourmind ca wellness coping grief and ands\n",
            "\n",
            "Pertanyaan :  Apakah terapi psikologis efektif untuk masalah mental?\n",
            "Jawaban Model : seringkali lebih realistis dan bermanfaat untuk mengetahui apa yang membantu dengan masalah yang anda hadapi berbicara konseling obat obatan persahabatan olahraga tidur nyenyak dan nutrisi dan pekerjaan yang bermakna semuanya bisa membantu \n",
            "\n",
            "Pertanyaan :  Apa yang dapat dilakukan untuk meningkatkan kesehatan mental di tempat kerja?\n",
            "Jawaban Model : masalah kesehatan mental adalah masalah serius pada usia berapa pun dan semua orang layak mendapatkan bantuan dan dukungan jika anda khawatir tentang kesehatan mental anda anda dapat bicaralah dengan dokter keluarga anda atau pergi ke klinik walk in hubungi jalur dukungan kesehatan mental di     tidak ada kode area untuk informasi tentang layanan di daerah anda temukan pusat atau program kesehatan mental lokal anda di www gov bc ca mentalhealth anda mungkin memerlukan rujukan dokter untuk mengakses beberapa program temukan cabang asosiasi kesehatan mental lokal anda di www cmha bc ca dan minta informasi tentang layanan lokal hubungi organisasi dukungan atau kelompok senior lokal dan minta nasihat anda dapat mencari organisasi di www bc  ca untuk informasi umum tentang kesehatan mental senior temukan sumber daya dari koalisi kanada untuk kesehatan mental lansia di www ccsmh ca temukan lembar info di seri senior dan depresi di www heretohelp bc ca factsheet seniors and series series jika anda khawatir tentang orang yang dicintai jujurlah tentang kekhawatiran anda seperti perubahan yang anda perhatikan atau masalah yang muncul beri orang yang anda cintai kesempatan untuk berbicara tentang perspektif mereka mereka mungkin memiliki masalah yang berbeda atau memiliki prioritas yang berbeda dalam perawatan kesehatan mereka bersabarlah mungkin akan membutuhkan lebih dari satu percakapan bilamana memungkinkan bertujuan untuk kerja sama fokus pada menemukan tindakan atau solusi yang dapat disetujui semua orang ingatlah bahwa meminta bantuan itu sulit bagi banyak dari kita dan itu bisa lebih sulit ketika peran dan kemampuan orang berubah jika orang yang anda cintai tidak mau membicarakan pengalaman mereka dengan anda segera tawarkan alternatif seperti bc mental health support line     tidak ada kode area yang diperlukan garis distress senior       atau atau organisasi dukungan senior lokal cari organisasi di www bc  ca cari dukungan untuk mengelola harapan anda dan kesejahteraan anda sendiri sangat menegangkan melihat orang yang dicintai mengalami masalah kesehatan tetapi orang dewasa yang dapat merawat diri sendiri dan tidak berisiko bahaya bebas untuk membuat pilihan sendiri dan itu termasuk bantuan menolak\n",
            "\n",
            "Pertanyaan :  Bagaimana cara mendukung teman yang sedang mengalami krisis mental?\n",
            "Jawaban Model : ini mungkin tergantung pada hubungan anda dengan mereka dengan lembut mendorong seseorang untuk mencari dukungan yang tepat akan membantu untuk memulai \n",
            "\n",
            "Pertanyaan :  Apa peran nutrisi dalam mendukung kesehatan mental?\n",
            "Jawaban Model : kita semua memiliki kesehatan mental yang terdiri dari keyakinan pikiran perasaan dan perilaku kita \n",
            "\n",
            "Pertanyaan :  Apakah tidur yang cukup berpengaruh pada kesehatan mental?\n",
            "Jawaban Model : seringkali lebih realistis dan bermanfaat untuk mengetahui apa yang membantu dengan masalah yang anda hadapi berbicara konseling obat obatan persahabatan olahraga tidur nyenyak dan nutrisi dan pekerjaan yang bermakna semuanya bisa membantu \n",
            "\n",
            "Pertanyaan :  Bagaimana cara menjaga keseimbangan kesehatan mental?\n",
            "Jawaban Model : merawat kesehatan fisik anda juga baik untuk kesehatan mental anda lebih penting dari sebelumnya untuk menjaga diri anda tetap sehat cobalah makan sebaik mungkin mungkin lebih mudah untuk meraih makanan dan makanan ringan yang tidak sehat saat anda menghabiskan lebih banyak waktu di rumah tetapi cobalah untuk menjaga pendekatan yang seimbang saat anda menyimpan bahan makanan jangan abaikan buah dan sayuran segar kami masih memiliki semua yang kami butuhkan untuk menyiapkan makanan sekarang kami disarankan untuk membatasi jumlah waktu yang kami habiskan di ruang publik seperti toko kelontong ini adalah waktu yang tepat untuk mencoba buah buahan dan sayuran baru yang tetap di rumah untuk waktu yang lebih lama jika lebih aman bagi anda untuk tinggal di rumah atau anda dalam isolasi diri jangkau bantuan banyak toko kelontong dan layanan persiapan makanan menawarkan pengiriman yang aman dan tidak kontak anda juga dapat meminta keluarga atau teman untuk membawakan anda bahan makanan atau mencari kelompok pendukung covid   lokal di media sosial paling aman jika orang lain meninggalkan makanan dan persediaan lain di luar pintu anda untuk menghindari penyebaran virus olahraga adalah bagian penting dari kesehatan mental dan kesejahteraan manajemen stres dan tidur kesehatan namun itu adalah sesuatu yang banyak orang berikan ketika mereka mulai merasa stres atau kewalahan jika aman bagi anda untuk melakukannya habiskan waktu di luar anda masih harus menghindari area atau kelompok yang sibuk dan tinggal setidaknya dua meter dari yang lain tetapi tidak ada alasan untuk menghindari berjalan berlari atau kegiatan luar ruangan yang aman lainnya jika anda lebih suka berolahraga di dalam ruangan anda juga dapat menemukan banyak kelas latihan berbeda secara online anda dapat mencoba yoga mengikuti kelas barre mengerjakan cardio anda mengambil rutinitas dumbbell baru dan mengikuti wod crossfit dari kenyamanan ruang tamu anda cari rutinitas atau kelas latihan tanpa peralatan jika anda belum memiliki peralatan tidur yang buruk dapat membuat masalah sederhana terasa jauh lebih buruk daripada yang sebenarnya tidur yang buruk dapat memengaruhi suasana hati anda pandangan anda dan kesabaran anda sayangnya stres dan kecemasan dapat benar benar berdampak pada tidur anda jika anda mengalami kesulitan tidur jadilah proaktif dan latih kebiasaan tidur yang sehat untuk lebih lanjut lihat modul wellness   mendapatkan tidur malam yang nyenyak di www heretohelp bc ca wellness module wellness module   getting good nights sleep jika anda memiliki masalah kesehatan lain seperti penyakit kronis periksa dengan dokter atau tim perawatan kesehatan anda untuk melihat apakah anda perlu mengambil tindakan atau tindakan pencegahan tambahan ingatlah untuk merencanakan ke depan dan melakukan apa yang anda bisa untuk menyimpan resep atau obat bebas persediaan medis suplemen atau kebutuhan kesehatan lainnya \n",
            "\n"
          ]
        }
      ]
    },
    {
      "cell_type": "code",
      "source": [
        "import csv\n",
        "\n",
        "# Pertanyaan dan jawaban prediksi\n",
        "questions = new_test_questions\n",
        "predicted_answers = new_predicted_answers\n",
        "\n",
        "# Buat file CSV baru\n",
        "with open('hasil_predictions.csv', 'w', newline='') as file:\n",
        "    writer = csv.writer(file)\n",
        "\n",
        "    # Tulis header kolom\n",
        "    writer.writerow(['Questions', 'Jawaban'])\n",
        "\n",
        "    # Tulis masing-masing pertanyaan dan jawaban prediksi ke baris csv\n",
        "    for i in range(len(questions)):\n",
        "        row = [questions[i], predicted_answers[i]]\n",
        "        writer.writerow(row)\n",
        "\n",
        "print(\"Hasil prediksi baru berhasil diekspor ke csv\")\n"
      ],
      "metadata": {
        "colab": {
          "base_uri": "https://localhost:8080/",
          "height": 0
        },
        "id": "pAsEFhP320WV",
        "outputId": "d9fe2a84-f871-406d-faca-7964833508d6"
      },
      "execution_count": 86,
      "outputs": [
        {
          "output_type": "stream",
          "name": "stdout",
          "text": [
            "Hasil prediksi baru berhasil diekspor ke csv\n"
          ]
        }
      ]
    },
    {
      "cell_type": "markdown",
      "source": [
        "# Kesimpulan"
      ],
      "metadata": {
        "id": "7LRPL84m667B"
      }
    },
    {
      "cell_type": "markdown",
      "source": [
        "Dari hasil di atas, model dapat berjalan dan juga memberikan jawaban pada semua pertanyaan yang diberikan, tetapi dari hasil di atas hanya terdapat 5 jawaban yang relevan dengan pertanyaannya, 5 jawaban yang lainnya kurang relevan dengan pertanyaan yang diberikan."
      ],
      "metadata": {
        "id": "wzymD9C169r3"
      }
    },
    {
      "cell_type": "markdown",
      "source": [
        "# LINK GIT HUB"
      ],
      "metadata": {
        "id": "pdT9Yikf9_qS"
      }
    },
    {
      "cell_type": "markdown",
      "source": [
        "https://github.com/Akbar-Nugroho/praktikum-nlp/tree/main/responsi_2"
      ],
      "metadata": {
        "id": "BjsUIMP8-C8B"
      }
    }
  ]
}